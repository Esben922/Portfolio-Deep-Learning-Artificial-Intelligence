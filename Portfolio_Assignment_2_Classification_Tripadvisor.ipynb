{
  "cells": [
    {
      "cell_type": "markdown",
      "source": [
        "#Imports"
      ],
      "metadata": {
        "id": "sYqlBV8iBmNb"
      }
    },
    {
      "cell_type": "markdown",
      "source": [
        "The following commands are used to set up and install the Hugging Face Transformers library along with essential dependencies for working with deep learning models. Here's what each command does:\n",
        "\n",
        "1. !pip install transformers datasets --q\n",
        "This installs the Transformers library, which provides pre-trained models for NLP tasks, and the Datasets library, which allows easy access to a wide range of datasets. The --q flag suppresses the output to keep the installation process clean.\n",
        "\n",
        "\n",
        "2. !git clone https://github.com/huggingface/transformers\n",
        "This command clones the official Transformers repository from GitHub, allowing access to the latest source code. This is useful for those who want to modify the library or work with unreleased features.\n",
        "\n",
        "\n",
        "3. !pip install /content/transformers\n",
        "After cloning the repository, this command installs the Transformers library directly from the cloned folder. This is helpful when working with custom modifications or testing the latest code that hasn’t been released on PyPI.\n",
        "\n",
        "\n",
        "4. !pip install accelerate -U\n",
        "This installs or updates the Accelerate library, which optimizes model training and inference across different hardware configurations like CPUs, GPUs, and TPUs.\n"
      ],
      "metadata": {
        "id": "s1GG8C2QXIYC"
      }
    },
    {
      "cell_type": "code",
      "execution_count": null,
      "metadata": {
        "id": "18B-UJSa0GnL"
      },
      "outputs": [],
      "source": [
        "# Transformers installation\n",
        "! pip install transformers datasets --q"
      ]
    },
    {
      "cell_type": "code",
      "source": [
        "!git clone https://github.com/huggingface/transformers\n",
        "!pip install /content/transformers"
      ],
      "metadata": {
        "colab": {
          "base_uri": "https://localhost:8080/"
        },
        "id": "TQ-8wdUssj-m",
        "outputId": "75a5d429-8e04-4c6e-b0c1-01b0e4f873db",
        "collapsed": true
      },
      "execution_count": null,
      "outputs": [
        {
          "output_type": "stream",
          "name": "stdout",
          "text": [
            "fatal: destination path 'transformers' already exists and is not an empty directory.\n",
            "Processing ./transformers\n",
            "  Installing build dependencies ... \u001b[?25l\u001b[?25hdone\n",
            "  Getting requirements to build wheel ... \u001b[?25l\u001b[?25hdone\n",
            "  Preparing metadata (pyproject.toml) ... \u001b[?25l\u001b[?25hdone\n",
            "Requirement already satisfied: filelock in /usr/local/lib/python3.10/dist-packages (from transformers==4.49.0.dev0) (3.16.1)\n",
            "Requirement already satisfied: huggingface-hub<1.0,>=0.24.0 in /usr/local/lib/python3.10/dist-packages (from transformers==4.49.0.dev0) (0.27.0)\n",
            "Requirement already satisfied: numpy>=1.17 in /usr/local/lib/python3.10/dist-packages (from transformers==4.49.0.dev0) (1.26.4)\n",
            "Requirement already satisfied: packaging>=20.0 in /usr/local/lib/python3.10/dist-packages (from transformers==4.49.0.dev0) (24.2)\n",
            "Requirement already satisfied: pyyaml>=5.1 in /usr/local/lib/python3.10/dist-packages (from transformers==4.49.0.dev0) (6.0.2)\n",
            "Requirement already satisfied: regex!=2019.12.17 in /usr/local/lib/python3.10/dist-packages (from transformers==4.49.0.dev0) (2024.11.6)\n",
            "Requirement already satisfied: requests in /usr/local/lib/python3.10/dist-packages (from transformers==4.49.0.dev0) (2.32.3)\n",
            "Requirement already satisfied: tokenizers<0.22,>=0.21 in /usr/local/lib/python3.10/dist-packages (from transformers==4.49.0.dev0) (0.21.0)\n",
            "Requirement already satisfied: safetensors>=0.4.1 in /usr/local/lib/python3.10/dist-packages (from transformers==4.49.0.dev0) (0.4.5)\n",
            "Requirement already satisfied: tqdm>=4.27 in /usr/local/lib/python3.10/dist-packages (from transformers==4.49.0.dev0) (4.67.1)\n",
            "Requirement already satisfied: fsspec>=2023.5.0 in /usr/local/lib/python3.10/dist-packages (from huggingface-hub<1.0,>=0.24.0->transformers==4.49.0.dev0) (2024.9.0)\n",
            "Requirement already satisfied: typing-extensions>=3.7.4.3 in /usr/local/lib/python3.10/dist-packages (from huggingface-hub<1.0,>=0.24.0->transformers==4.49.0.dev0) (4.12.2)\n",
            "Requirement already satisfied: charset-normalizer<4,>=2 in /usr/local/lib/python3.10/dist-packages (from requests->transformers==4.49.0.dev0) (3.4.0)\n",
            "Requirement already satisfied: idna<4,>=2.5 in /usr/local/lib/python3.10/dist-packages (from requests->transformers==4.49.0.dev0) (3.10)\n",
            "Requirement already satisfied: urllib3<3,>=1.21.1 in /usr/local/lib/python3.10/dist-packages (from requests->transformers==4.49.0.dev0) (2.2.3)\n",
            "Requirement already satisfied: certifi>=2017.4.17 in /usr/local/lib/python3.10/dist-packages (from requests->transformers==4.49.0.dev0) (2024.12.14)\n",
            "Building wheels for collected packages: transformers\n",
            "  Building wheel for transformers (pyproject.toml) ... \u001b[?25l\u001b[?25hdone\n",
            "  Created wheel for transformers: filename=transformers-4.49.0.dev0-py3-none-any.whl size=10742473 sha256=dea073ae687eabc20145c9b4634da639f3e1bb7e51c02176c418e99861d381bf\n",
            "  Stored in directory: /tmp/pip-ephem-wheel-cache-5yvaiq3q/wheels/7c/35/80/e946b22a081210c6642e607ed65b2a5b9a4d9259695ee2caf5\n",
            "Successfully built transformers\n",
            "Installing collected packages: transformers\n",
            "  Attempting uninstall: transformers\n",
            "    Found existing installation: transformers 4.49.0.dev0\n",
            "    Uninstalling transformers-4.49.0.dev0:\n",
            "      Successfully uninstalled transformers-4.49.0.dev0\n",
            "Successfully installed transformers-4.49.0.dev0\n"
          ]
        }
      ]
    },
    {
      "cell_type": "code",
      "source": [
        "!pip install accelerate -U"
      ],
      "metadata": {
        "colab": {
          "base_uri": "https://localhost:8080/"
        },
        "id": "qks2bNv874PW",
        "outputId": "1c75c697-b827-4b76-de41-e69fb6e29a02",
        "collapsed": true
      },
      "execution_count": null,
      "outputs": [
        {
          "output_type": "stream",
          "name": "stdout",
          "text": [
            "Requirement already satisfied: accelerate in /usr/local/lib/python3.10/dist-packages (1.3.0)\n",
            "Requirement already satisfied: numpy<3.0.0,>=1.17 in /usr/local/lib/python3.10/dist-packages (from accelerate) (1.26.4)\n",
            "Requirement already satisfied: packaging>=20.0 in /usr/local/lib/python3.10/dist-packages (from accelerate) (24.2)\n",
            "Requirement already satisfied: psutil in /usr/local/lib/python3.10/dist-packages (from accelerate) (5.9.5)\n",
            "Requirement already satisfied: pyyaml in /usr/local/lib/python3.10/dist-packages (from accelerate) (6.0.2)\n",
            "Requirement already satisfied: torch>=2.0.0 in /usr/local/lib/python3.10/dist-packages (from accelerate) (2.5.1+cu121)\n",
            "Requirement already satisfied: huggingface-hub>=0.21.0 in /usr/local/lib/python3.10/dist-packages (from accelerate) (0.27.0)\n",
            "Requirement already satisfied: safetensors>=0.4.3 in /usr/local/lib/python3.10/dist-packages (from accelerate) (0.4.5)\n",
            "Requirement already satisfied: filelock in /usr/local/lib/python3.10/dist-packages (from huggingface-hub>=0.21.0->accelerate) (3.16.1)\n",
            "Requirement already satisfied: fsspec>=2023.5.0 in /usr/local/lib/python3.10/dist-packages (from huggingface-hub>=0.21.0->accelerate) (2024.9.0)\n",
            "Requirement already satisfied: requests in /usr/local/lib/python3.10/dist-packages (from huggingface-hub>=0.21.0->accelerate) (2.32.3)\n",
            "Requirement already satisfied: tqdm>=4.42.1 in /usr/local/lib/python3.10/dist-packages (from huggingface-hub>=0.21.0->accelerate) (4.67.1)\n",
            "Requirement already satisfied: typing-extensions>=3.7.4.3 in /usr/local/lib/python3.10/dist-packages (from huggingface-hub>=0.21.0->accelerate) (4.12.2)\n",
            "Requirement already satisfied: networkx in /usr/local/lib/python3.10/dist-packages (from torch>=2.0.0->accelerate) (3.4.2)\n",
            "Requirement already satisfied: jinja2 in /usr/local/lib/python3.10/dist-packages (from torch>=2.0.0->accelerate) (3.1.4)\n",
            "Requirement already satisfied: sympy==1.13.1 in /usr/local/lib/python3.10/dist-packages (from torch>=2.0.0->accelerate) (1.13.1)\n",
            "Requirement already satisfied: mpmath<1.4,>=1.1.0 in /usr/local/lib/python3.10/dist-packages (from sympy==1.13.1->torch>=2.0.0->accelerate) (1.3.0)\n",
            "Requirement already satisfied: MarkupSafe>=2.0 in /usr/local/lib/python3.10/dist-packages (from jinja2->torch>=2.0.0->accelerate) (3.0.2)\n",
            "Requirement already satisfied: charset-normalizer<4,>=2 in /usr/local/lib/python3.10/dist-packages (from requests->huggingface-hub>=0.21.0->accelerate) (3.4.0)\n",
            "Requirement already satisfied: idna<4,>=2.5 in /usr/local/lib/python3.10/dist-packages (from requests->huggingface-hub>=0.21.0->accelerate) (3.10)\n",
            "Requirement already satisfied: urllib3<3,>=1.21.1 in /usr/local/lib/python3.10/dist-packages (from requests->huggingface-hub>=0.21.0->accelerate) (2.2.3)\n",
            "Requirement already satisfied: certifi>=2017.4.17 in /usr/local/lib/python3.10/dist-packages (from requests->huggingface-hub>=0.21.0->accelerate) (2024.12.14)\n"
          ]
        }
      ]
    },
    {
      "cell_type": "markdown",
      "metadata": {
        "id": "0Xe2c7MC0GnR"
      },
      "source": [
        "# Prepare the dataset"
      ]
    },
    {
      "cell_type": "markdown",
      "metadata": {
        "id": "czl_lqnp0GnT"
      },
      "source": [
        "We decide to use the Tripadvisor reviews dataset (https://huggingface.co/datasets/nhull/tripadvisor-split-dataset-v2)\n",
        "\n",
        "The first step is to examine the dataset, which consists of star ratings ranging from 0.0 to 4.0, along with corresponding written reviews.\n",
        "To ensure that the dataset is balanced, we take a closer look at the distribution of ratings to determine whether scaling is necessary. However, in this case, we find that the dataset is already well-balanced.\n",
        "Before proceeding, we generalize the analysis by renaming \"review\" to \"text\" for consistency. Additionally, to avoid complications with data types, we convert the existing float-based star ratings into integers.\n",
        "We were unable to efficiently convert the float values directly within the same label. Instead, we created a new label and copied the existing values, ensuring that they were converted to integers during the transfer. Once the new label was in place, we deleted the original label along with its data to maintain a clean and consistent dataset.\n",
        "\n",
        "The last step in our preprocessing is to create smaller subsets of the training and test datasets. We achieve this by shuffling the data with a fixed seed (42) to ensure reproducibility and then selecting the first 400 samples from each. This allows us to work with a more manageable dataset for quick experimentation while maintaining randomness in the selection process."
      ]
    },
    {
      "cell_type": "code",
      "execution_count": null,
      "metadata": {
        "id": "kStj1lgG0GnT",
        "outputId": "66031c16-efdf-4ac3-c1f3-30a4f939f8bc",
        "colab": {
          "base_uri": "https://localhost:8080/"
        }
      },
      "outputs": [
        {
          "output_type": "stream",
          "name": "stdout",
          "text": [
            "{'text': 'Rude and unhelpful staff\\nI\\'ve never stayed in Intercontinental. Was looking forward. We came with large group (20 people) for surprise birthday party. upon check-in we were greeted with rude and unhelpful man. We asked for higher floor and were summarily dismissed. Apparently, if you say \"sir\" enough - they are allowed to be rude. We were, however, offered an 11th floor room with 100 sq ft more for an extra $300! The room is acceptable at best. The coffee only has mugs so you cant make a coffee and go walk around the City. We asked for paper/plastic cups. That was greeted with eye rolling from staff! We were travelling with 7 week old baby. We called in morn and asked for late check out. Was \"transferred\" to appropriate person - only to be made to wait for ten minutes on hold listening to music. We knew they werent sold out so an extra hour or two would have been helpful. The attitude was remarkable. Finally - they did us a huge \"favour\" and allowed us check out until 1 pm instead of noon! Upon leaving with stroller and 2 suitcases - none o fthe staff could be bothered to assist. Our brand new stroller got crushed in their ridiculous front revolving door. We looked for help and finally one of their bellboys slowly sauntered over while we were tugging at stroller to free it. This cannot be a 4.5 - 5 star hotel. The service/attitude was horrrendous. The rooms were tiny (smaller than average NYC room). All in all - i can think of atleast 7-8 nicer, friendlier hotels in NYC than here. The stay was unpleasant due to staff and their inability to be helpful or nice.', 'label': 1}\n"
          ]
        }
      ],
      "source": [
        "#Here we struggled quite a bit with making the features be how we wanted to continue our model creation pipeline. Especially the conversion of floats and integers was difficult\n",
        "#so we ended up simply creating a copy of \"label\" in the integer range we wanted and needed, hence we create a new row and remove the old. Also we rename \"review\" to \"text\" for\n",
        "#ease of generalizability and reuseability in future.\n",
        "from datasets import load_dataset\n",
        "\n",
        "dataset = load_dataset(\"nhull/tripadvisor-split-dataset-v2\")\n",
        "\n",
        "dataset = dataset.map(lambda x: {\"label2\": int(x[\"label\"]) - 1})\n",
        "dataset = dataset.remove_columns([\"label\"])\n",
        "dataset = dataset.rename_column(\"label2\", \"label\").rename_column(\"review\", \"text\")\n",
        "\n",
        "print(dataset[\"train\"][10])\n"
      ]
    },
    {
      "cell_type": "code",
      "source": [
        "small_train_dataset = dataset[\"train\"].shuffle(seed=42).select(range(400))\n",
        "small_eval_dataset = dataset[\"test\"].shuffle(seed=42).select(range(400))"
      ],
      "metadata": {
        "id": "Kg2Hzc2TCyoa"
      },
      "execution_count": null,
      "outputs": []
    },
    {
      "cell_type": "markdown",
      "metadata": {
        "id": "2EK8SaTs0Gng"
      },
      "source": [
        "# Training"
      ]
    },
    {
      "cell_type": "markdown",
      "source": [
        "This is our training process from all the way from tokenization to fine-tuned transformer-based classification model. See comments along the way for explanation throughout."
      ],
      "metadata": {
        "id": "J8kJVmo4_jto"
      }
    },
    {
      "cell_type": "code",
      "source": [
        "#We use the pretrained tokenizer bert-base-cased to tokenize the raw text data from our sample into a format suited for use of a transformer model.\n",
        "from transformers import AutoTokenizer\n",
        "\n",
        "tokenizer = AutoTokenizer.from_pretrained(\"bert-base-cased\")\n",
        "\n",
        "\n",
        "def tokenize_function(examples):\n",
        "  return tokenizer(examples[\"text\"], padding=\"max_length\", truncation=True)\n",
        "\n",
        "\n",
        "tokenized_small_train_dataset = small_train_dataset.map(tokenize_function, batched=True)\n",
        "tokenized_small_eval_dataset = small_eval_dataset.map(tokenize_function, batched=True)"
      ],
      "metadata": {
        "id": "SdLYzhHu539d"
      },
      "execution_count": null,
      "outputs": []
    },
    {
      "cell_type": "code",
      "source": [
        "#We remove the column that is the raw text input leaving only the tokenized input.\n",
        "tokenized_small_train_dataset = tokenized_small_train_dataset.remove_columns([\"text\"])\n",
        "tokenized_small_eval_dataset = tokenized_small_eval_dataset.remove_columns([\"text\"])"
      ],
      "metadata": {
        "id": "4feAi6us58lK"
      },
      "execution_count": null,
      "outputs": []
    },
    {
      "cell_type": "code",
      "source": [
        "#Slight rename from label to labels as this is expected by the model.\n",
        "tokenized_small_train_dataset = tokenized_small_train_dataset.rename_column(\"label\", \"labels\")\n",
        "tokenized_small_eval_dataset = tokenized_small_eval_dataset.rename_column(\"label\", \"labels\")\n"
      ],
      "metadata": {
        "id": "YSW3WnJg6B-S"
      },
      "execution_count": null,
      "outputs": []
    },
    {
      "cell_type": "code",
      "source": [
        "#We convert into pytorch tensors instead of lists\n",
        "tokenized_small_train_dataset.set_format(\"torch\")\n",
        "tokenized_small_eval_dataset.set_format(\"torch\")"
      ],
      "metadata": {
        "id": "angzxwZo6JcU"
      },
      "execution_count": null,
      "outputs": []
    },
    {
      "cell_type": "code",
      "execution_count": null,
      "metadata": {
        "id": "v2wyefwD0Gni"
      },
      "outputs": [],
      "source": [
        "#Here we structure and prepare the data for efficient training using the concept of batching and shuffling by creating a dataloader. With batch_size of 8 we process 8 samples at a time, which is more efficient,\n",
        "#and we also shufffle in training to prevent the model from memorizing order.\n",
        "from torch.utils.data import DataLoader\n",
        "\n",
        "train_dataloader = DataLoader(tokenized_small_train_dataset, shuffle=True, batch_size=8)\n",
        "eval_dataloader = DataLoader(tokenized_small_eval_dataset, batch_size=8)"
      ]
    },
    {
      "cell_type": "code",
      "execution_count": null,
      "metadata": {
        "id": "Ytb5dcTm0Gni",
        "outputId": "198f97a8-f298-4307-e59b-954ecc3d5e22",
        "colab": {
          "base_uri": "https://localhost:8080/"
        }
      },
      "outputs": [
        {
          "output_type": "stream",
          "name": "stderr",
          "text": [
            "Some weights of BertForSequenceClassification were not initialized from the model checkpoint at bert-base-cased and are newly initialized: ['classifier.bias', 'classifier.weight']\n",
            "You should probably TRAIN this model on a down-stream task to be able to use it for predictions and inference.\n"
          ]
        }
      ],
      "source": [
        "#We load a pretrained bert model expecting 5 possible labels, which means that the output is a classification head that outputs 5 probablilites for each of our classes, where the highest prediction score wins the label.\n",
        "#Also using this we take care of loss function as AutoModelForSequenceClassification applies CrossEntropyLoss to the integer labels we ensured we had earlier. Here we calculate loss by testing the models predicted labels with its correct ones.\n",
        "#If the model assigns the correct class high the loss is low, and opposite way around.\n",
        "from transformers import AutoModelForSequenceClassification\n",
        "\n",
        "# 1. Creating a Neural Network\n",
        "# 1.1 Structure (Architecture) of NN\n",
        "# 1.2 Loss Function\n",
        "model = AutoModelForSequenceClassification.from_pretrained(\"bert-base-cased\", num_labels=5)"
      ]
    },
    {
      "cell_type": "code",
      "execution_count": null,
      "metadata": {
        "id": "AMWHCD_00Gni"
      },
      "outputs": [],
      "source": [
        "#We import AdamW optimizer, which is an optimization algorithm for computing the gradients in backpropagation to update the weights in our optimization of the model.\n",
        "from torch.optim import AdamW\n",
        "\n",
        "# 1.3 Optmization Approach\n",
        "optimizer = AdamW(model.parameters(), lr=5e-5)"
      ]
    },
    {
      "cell_type": "code",
      "execution_count": null,
      "metadata": {
        "id": "ENS86TJO0Gni"
      },
      "outputs": [],
      "source": [
        "#We take the imported learning rate from above and implement learning rate scheduler, which is set in place to adjust the learning rate throughout training. It stats at lr=5e-5 and then decreases over time until finally 0 or close to.\n",
        "#Here we also set out number of epochs, which means that the model will train for 3 epochs over the dataset. We also define how many times the learning rate needs to be updated.\n",
        "from transformers import get_scheduler\n",
        "\n",
        "num_epochs = 3\n",
        "num_training_steps = num_epochs * len(train_dataloader)\n",
        "\n",
        "lr_scheduler = get_scheduler(\n",
        "    name=\"linear\", optimizer=optimizer, num_warmup_steps=0, num_training_steps=num_training_steps\n",
        ")"
      ]
    },
    {
      "cell_type": "code",
      "execution_count": null,
      "metadata": {
        "id": "syr8GO4r0Gnj",
        "outputId": "946eb22c-a32e-4ff7-e106-e13a712823d0",
        "colab": {
          "base_uri": "https://localhost:8080/"
        }
      },
      "outputs": [
        {
          "output_type": "execute_result",
          "data": {
            "text/plain": [
              "BertForSequenceClassification(\n",
              "  (bert): BertModel(\n",
              "    (embeddings): BertEmbeddings(\n",
              "      (word_embeddings): Embedding(28996, 768, padding_idx=0)\n",
              "      (position_embeddings): Embedding(512, 768)\n",
              "      (token_type_embeddings): Embedding(2, 768)\n",
              "      (LayerNorm): LayerNorm((768,), eps=1e-12, elementwise_affine=True)\n",
              "      (dropout): Dropout(p=0.1, inplace=False)\n",
              "    )\n",
              "    (encoder): BertEncoder(\n",
              "      (layer): ModuleList(\n",
              "        (0-11): 12 x BertLayer(\n",
              "          (attention): BertAttention(\n",
              "            (self): BertSdpaSelfAttention(\n",
              "              (query): Linear(in_features=768, out_features=768, bias=True)\n",
              "              (key): Linear(in_features=768, out_features=768, bias=True)\n",
              "              (value): Linear(in_features=768, out_features=768, bias=True)\n",
              "              (dropout): Dropout(p=0.1, inplace=False)\n",
              "            )\n",
              "            (output): BertSelfOutput(\n",
              "              (dense): Linear(in_features=768, out_features=768, bias=True)\n",
              "              (LayerNorm): LayerNorm((768,), eps=1e-12, elementwise_affine=True)\n",
              "              (dropout): Dropout(p=0.1, inplace=False)\n",
              "            )\n",
              "          )\n",
              "          (intermediate): BertIntermediate(\n",
              "            (dense): Linear(in_features=768, out_features=3072, bias=True)\n",
              "            (intermediate_act_fn): GELUActivation()\n",
              "          )\n",
              "          (output): BertOutput(\n",
              "            (dense): Linear(in_features=3072, out_features=768, bias=True)\n",
              "            (LayerNorm): LayerNorm((768,), eps=1e-12, elementwise_affine=True)\n",
              "            (dropout): Dropout(p=0.1, inplace=False)\n",
              "          )\n",
              "        )\n",
              "      )\n",
              "    )\n",
              "    (pooler): BertPooler(\n",
              "      (dense): Linear(in_features=768, out_features=768, bias=True)\n",
              "      (activation): Tanh()\n",
              "    )\n",
              "  )\n",
              "  (dropout): Dropout(p=0.1, inplace=False)\n",
              "  (classifier): Linear(in_features=768, out_features=5, bias=True)\n",
              ")"
            ]
          },
          "metadata": {},
          "execution_count": 14
        }
      ],
      "source": [
        "#We specify the usage of GPU.\n",
        "import torch\n",
        "\n",
        "device = torch.device(\"cuda\") if torch.cuda.is_available() else torch.device(\"cpu\")\n",
        "model.to(device)"
      ]
    },
    {
      "cell_type": "code",
      "execution_count": null,
      "metadata": {
        "id": "Y5B_16h70Gnj",
        "outputId": "4eb58776-76fe-4465-b04f-dd30f5cfdaa1",
        "colab": {
          "base_uri": "https://localhost:8080/",
          "height": 49,
          "referenced_widgets": [
            "c1741cecc28e4e81ae0c9b76cf006d5c",
            "d372a4ab4ba241ed8a38b12c5cc1c994",
            "2c1369952fb544ad9a69dc6264d07d5b",
            "26741be04e774852af622a12c77f10de",
            "cee7e6b7acb94170827023b27931c168",
            "703d3f7d23c24545b5547083384b006e",
            "5703b194acad4a659e17bb5f76d75931",
            "185f23d35332423f91169fab1bd5b61c",
            "3a18cf10be384f6bb3b0670de07868f6",
            "7feb63969f024098b1bc0d9b812e3dbf",
            "49373cec8f604934a8afc4ead38f906d"
          ]
        }
      },
      "outputs": [
        {
          "output_type": "display_data",
          "data": {
            "text/plain": [
              "  0%|          | 0/150 [00:00<?, ?it/s]"
            ],
            "application/vnd.jupyter.widget-view+json": {
              "version_major": 2,
              "version_minor": 0,
              "model_id": "c1741cecc28e4e81ae0c9b76cf006d5c"
            }
          },
          "metadata": {}
        }
      ],
      "source": [
        "#Use tqdm for progress bar, which is the number of training steps.\n",
        "from tqdm.auto import tqdm\n",
        "\n",
        "progress_bar = tqdm(range(num_training_steps))\n",
        "\n",
        "#Training loop\n",
        "model.train()\n",
        "#We iterate over epochs where each epoch refines the model's weights\n",
        "for epoch in range(num_epochs):\n",
        "  #We load a batch, i.e. the 8 from earlier\n",
        "    for batch in train_dataloader:\n",
        "      #Use GPU\n",
        "        batch = {k: v.to(device) for k, v in batch.items()}\n",
        "\n",
        "        # 2. Forward Pass\n",
        "        #Here we input the batch into the model and predict the scores\n",
        "        outputs = model(**batch)\n",
        "\n",
        "        # 3. FeedForward Evaluation\n",
        "        #We compute loss using the CrossEntropyLoss which measures the loss of prediction labels, which we attempt to minimize\n",
        "        loss = outputs.loss\n",
        "\n",
        "        # 4. Backward Pass / Gradient Calculation\n",
        "        #Compute gradients so the model can adjust weights in the next step\n",
        "        loss.backward()\n",
        "\n",
        "        # 5. Back Propagation / Update Weights\n",
        "        #We use the optimizer to gradually update the learning rate through each training step.\n",
        "        optimizer.step()\n",
        "        lr_scheduler.step()\n",
        "        optimizer.zero_grad()\n",
        "        progress_bar.update(1)"
      ]
    },
    {
      "cell_type": "markdown",
      "metadata": {
        "id": "j2XZZ2Gm0Gnj"
      },
      "source": [
        "#Evaluate"
      ]
    },
    {
      "cell_type": "markdown",
      "source": [
        "Our fine-tuned BERT model for predicting TripAdvisor review ratings (1-5) achieves an accuracy of 60.25%, indicating that it captures meaningful sentiment patterns but struggles with precise classification. Given that a random classifier would achieve 20% accuracy in a five-class problem, this result suggests that the model significantly improves upon chance but remains limited in distinguishing between closely related ratings. The relative improvement over random guessing, computed as:"
      ],
      "metadata": {
        "id": "gNI1VxlHLpMR"
      }
    },
    {
      "cell_type": "markdown",
      "source": [
        "![Skærmbillede 2025-02-13 174104.png](data:image/png;base64,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)"
      ],
      "metadata": {
        "id": "dXTNE-0BMC6P"
      }
    },
    {
      "cell_type": "markdown",
      "source": [
        "This calculation shows that our model captures 50.3% of the possible improvement space between random and perfect classification. However, the tendency to misclassify ratings that are close in value (e.g., 3-star vs. 4-star) suggests difficulties in capturing subtle sentiment differences, a common challenge in multi-class sentiment classification.\n",
        "To better understand our model’s performance, we considered alternative approaches. Traditional machine learning models such as Logistic Regression, SVM, and Random Forest provide better interpretability but struggle with contextual understanding. These models rely on hand-crafted features like TF-IDF or word embeddings, which often fail to capture the complexity of natural language sentiment. While they can be useful for simpler classification tasks, they generally underperform compared to transformer-based architectures in nuanced sentiment analysis.\n",
        "Other deep learning approaches, such as LSTMs and CNNs, offer an alternative to transformers but require significantly more data to achieve similar performance. Recurrent networks like LSTMs are designed to handle sequential text data, yet they struggle with long-range dependencies compared to BERT. Convolutional models, while effective for feature extraction, often fail to grasp the sequential nature of text in the same way transformers do.\n",
        "Within the transformer family, DistilBERT and RoBERTa present interesting alternatives. DistilBERT, a lighter version of BERT, achieves similar performance with lower computational cost, making it a viable alternative for efficiency-focused applications. RoBERTa, an improved version of BERT trained with optimized pretraining strategies, often outperforms BERT in classification tasks and could potentially yield better results on this dataset.\n",
        "Overall, our BERT-based model performs moderately well, outperforming traditional ML models and offering better generalization than LSTMs or CNNs given our dataset size. However, its accuracy remains below the ideal threshold for reliable review classification. The primary limitation stems from the small dataset size (400 reviews for training), which restricts the model’s ability to learn nuanced sentiment patterns. To enhance performance, data augmentation, hyperparameter tuning, and alternative transformer architectures could be explored to push accuracy toward the 70-80% range, making the model more robust for real-world rating prediction."
      ],
      "metadata": {
        "id": "hw3TPbQULtf4"
      }
    },
    {
      "cell_type": "code",
      "execution_count": null,
      "metadata": {
        "id": "dxUejIL_0Gnk",
        "colab": {
          "base_uri": "https://localhost:8080/"
        },
        "outputId": "07eeeb7e-3e4f-4473-be2c-17878b3efa09"
      },
      "outputs": [
        {
          "output_type": "execute_result",
          "data": {
            "text/plain": [
              "{'accuracy': 0.6025}"
            ]
          },
          "metadata": {},
          "execution_count": 16
        }
      ],
      "source": [
        "import evaluate\n",
        "\n",
        "metric = evaluate.load(\"accuracy\")\n",
        "model.eval()\n",
        "for batch in eval_dataloader:\n",
        "    batch = {k: v.to(device) for k, v in batch.items()}\n",
        "    with torch.no_grad():\n",
        "        outputs = model(**batch)\n",
        "\n",
        "    logits = outputs.logits\n",
        "    predictions = torch.argmax(logits, dim=-1)\n",
        "    metric.add_batch(predictions=predictions, references=batch[\"labels\"])\n",
        "\n",
        "metric.compute()"
      ]
    },
    {
      "cell_type": "markdown",
      "metadata": {
        "id": "UD90jdqS0Gnk"
      },
      "source": [
        "#Download Model"
      ]
    },
    {
      "cell_type": "markdown",
      "source": [
        "In order to upload our model to hugging face and make it publicly available to other researcher we have to download our fine tuned model and display it in huggingface."
      ],
      "metadata": {
        "id": "8AfLNuYMMUcw"
      }
    },
    {
      "cell_type": "code",
      "source": [
        "model.save_pretrained(\"saved_model\")\n",
        "tokenizer.save_pretrained(\"saved_model\")\n",
        "\n",
        "torch.save(optimizer.state_dict(), \"saved_model/optimizer.pt\")\n",
        "torch.save(lr_scheduler.state_dict(), \"saved_model/lr_scheduler.pt\")\n",
        "\n",
        "!zip -r saved_model.zip saved_model\n"
      ],
      "metadata": {
        "colab": {
          "base_uri": "https://localhost:8080/"
        },
        "id": "-XSX0WpM5UrR",
        "outputId": "082b515d-7245-41c4-b44c-c322b9da2eaa"
      },
      "execution_count": null,
      "outputs": [
        {
          "output_type": "stream",
          "name": "stdout",
          "text": [
            "updating: saved_model/ (stored 0%)\n",
            "updating: saved_model/config.json (deflated 53%)\n",
            "updating: saved_model/lr_scheduler.pt (deflated 55%)\n",
            "updating: saved_model/optimizer.pt (deflated 23%)\n",
            "updating: saved_model/model.safetensors (deflated 7%)\n",
            "updating: saved_model/vocab.txt (deflated 49%)\n",
            "updating: saved_model/tokenizer_config.json (deflated 75%)\n",
            "updating: saved_model/special_tokens_map.json (deflated 42%)\n",
            "updating: saved_model/tokenizer.json (deflated 70%)\n"
          ]
        }
      ]
    },
    {
      "cell_type": "markdown",
      "metadata": {
        "id": "fHPMWGCY0Gnk"
      },
      "source": [
        "# Model usage example"
      ]
    },
    {
      "cell_type": "markdown",
      "source": [
        "After posting our model on huggingface we can call on the model through huggingface, which allows us to use the model to evaluate a fabricated review.\n"
      ],
      "metadata": {
        "id": "FJ5GshYeMWC0"
      }
    },
    {
      "cell_type": "code",
      "source": [
        "from transformers import AutoModelForSequenceClassification, AutoTokenizer\n",
        "\n",
        "model_name = \"Esben922/Classification-tripadvisor-review-model\"\n",
        "\n",
        "model = AutoModelForSequenceClassification.from_pretrained(model_name)\n",
        "tokenizer = AutoTokenizer.from_pretrained(model_name)\n",
        "\n",
        "text = \"This was the best hotel experience I have ever had. Thank you very much for this experience.\"\n",
        "inputs = tokenizer(text, return_tensors=\"pt\")\n",
        "\n",
        "outputs = model(**inputs)\n",
        "predictions = outputs.logits.argmax(dim=-1)\n",
        "\n",
        "print(predictions.item())\n"
      ],
      "metadata": {
        "colab": {
          "base_uri": "https://localhost:8080/"
        },
        "id": "yu4p-6H-8l4c",
        "outputId": "da032c4e-f8d2-4511-de8c-956eab24357b"
      },
      "execution_count": null,
      "outputs": [
        {
          "output_type": "stream",
          "name": "stdout",
          "text": [
            "4\n"
          ]
        }
      ]
    }
  ],
  "metadata": {
    "colab": {
      "provenance": [],
      "gpuType": "T4",
      "collapsed_sections": [
        "sYqlBV8iBmNb"
      ]
    },
    "language_info": {
      "name": "python"
    },
    "kernelspec": {
      "name": "python3",
      "display_name": "Python 3"
    },
    "widgets": {
      "application/vnd.jupyter.widget-state+json": {
        "c1741cecc28e4e81ae0c9b76cf006d5c": {
          "model_module": "@jupyter-widgets/controls",
          "model_name": "HBoxModel",
          "model_module_version": "1.5.0",
          "state": {
            "_dom_classes": [],
            "_model_module": "@jupyter-widgets/controls",
            "_model_module_version": "1.5.0",
            "_model_name": "HBoxModel",
            "_view_count": null,
            "_view_module": "@jupyter-widgets/controls",
            "_view_module_version": "1.5.0",
            "_view_name": "HBoxView",
            "box_style": "",
            "children": [
              "IPY_MODEL_d372a4ab4ba241ed8a38b12c5cc1c994",
              "IPY_MODEL_2c1369952fb544ad9a69dc6264d07d5b",
              "IPY_MODEL_26741be04e774852af622a12c77f10de"
            ],
            "layout": "IPY_MODEL_cee7e6b7acb94170827023b27931c168"
          }
        },
        "d372a4ab4ba241ed8a38b12c5cc1c994": {
          "model_module": "@jupyter-widgets/controls",
          "model_name": "HTMLModel",
          "model_module_version": "1.5.0",
          "state": {
            "_dom_classes": [],
            "_model_module": "@jupyter-widgets/controls",
            "_model_module_version": "1.5.0",
            "_model_name": "HTMLModel",
            "_view_count": null,
            "_view_module": "@jupyter-widgets/controls",
            "_view_module_version": "1.5.0",
            "_view_name": "HTMLView",
            "description": "",
            "description_tooltip": null,
            "layout": "IPY_MODEL_703d3f7d23c24545b5547083384b006e",
            "placeholder": "​",
            "style": "IPY_MODEL_5703b194acad4a659e17bb5f76d75931",
            "value": "100%"
          }
        },
        "2c1369952fb544ad9a69dc6264d07d5b": {
          "model_module": "@jupyter-widgets/controls",
          "model_name": "FloatProgressModel",
          "model_module_version": "1.5.0",
          "state": {
            "_dom_classes": [],
            "_model_module": "@jupyter-widgets/controls",
            "_model_module_version": "1.5.0",
            "_model_name": "FloatProgressModel",
            "_view_count": null,
            "_view_module": "@jupyter-widgets/controls",
            "_view_module_version": "1.5.0",
            "_view_name": "ProgressView",
            "bar_style": "",
            "description": "",
            "description_tooltip": null,
            "layout": "IPY_MODEL_185f23d35332423f91169fab1bd5b61c",
            "max": 150,
            "min": 0,
            "orientation": "horizontal",
            "style": "IPY_MODEL_3a18cf10be384f6bb3b0670de07868f6",
            "value": 150
          }
        },
        "26741be04e774852af622a12c77f10de": {
          "model_module": "@jupyter-widgets/controls",
          "model_name": "HTMLModel",
          "model_module_version": "1.5.0",
          "state": {
            "_dom_classes": [],
            "_model_module": "@jupyter-widgets/controls",
            "_model_module_version": "1.5.0",
            "_model_name": "HTMLModel",
            "_view_count": null,
            "_view_module": "@jupyter-widgets/controls",
            "_view_module_version": "1.5.0",
            "_view_name": "HTMLView",
            "description": "",
            "description_tooltip": null,
            "layout": "IPY_MODEL_7feb63969f024098b1bc0d9b812e3dbf",
            "placeholder": "​",
            "style": "IPY_MODEL_49373cec8f604934a8afc4ead38f906d",
            "value": " 150/150 [01:48&lt;00:00,  1.34it/s]"
          }
        },
        "cee7e6b7acb94170827023b27931c168": {
          "model_module": "@jupyter-widgets/base",
          "model_name": "LayoutModel",
          "model_module_version": "1.2.0",
          "state": {
            "_model_module": "@jupyter-widgets/base",
            "_model_module_version": "1.2.0",
            "_model_name": "LayoutModel",
            "_view_count": null,
            "_view_module": "@jupyter-widgets/base",
            "_view_module_version": "1.2.0",
            "_view_name": "LayoutView",
            "align_content": null,
            "align_items": null,
            "align_self": null,
            "border": null,
            "bottom": null,
            "display": null,
            "flex": null,
            "flex_flow": null,
            "grid_area": null,
            "grid_auto_columns": null,
            "grid_auto_flow": null,
            "grid_auto_rows": null,
            "grid_column": null,
            "grid_gap": null,
            "grid_row": null,
            "grid_template_areas": null,
            "grid_template_columns": null,
            "grid_template_rows": null,
            "height": null,
            "justify_content": null,
            "justify_items": null,
            "left": null,
            "margin": null,
            "max_height": null,
            "max_width": null,
            "min_height": null,
            "min_width": null,
            "object_fit": null,
            "object_position": null,
            "order": null,
            "overflow": null,
            "overflow_x": null,
            "overflow_y": null,
            "padding": null,
            "right": null,
            "top": null,
            "visibility": null,
            "width": null
          }
        },
        "703d3f7d23c24545b5547083384b006e": {
          "model_module": "@jupyter-widgets/base",
          "model_name": "LayoutModel",
          "model_module_version": "1.2.0",
          "state": {
            "_model_module": "@jupyter-widgets/base",
            "_model_module_version": "1.2.0",
            "_model_name": "LayoutModel",
            "_view_count": null,
            "_view_module": "@jupyter-widgets/base",
            "_view_module_version": "1.2.0",
            "_view_name": "LayoutView",
            "align_content": null,
            "align_items": null,
            "align_self": null,
            "border": null,
            "bottom": null,
            "display": null,
            "flex": null,
            "flex_flow": null,
            "grid_area": null,
            "grid_auto_columns": null,
            "grid_auto_flow": null,
            "grid_auto_rows": null,
            "grid_column": null,
            "grid_gap": null,
            "grid_row": null,
            "grid_template_areas": null,
            "grid_template_columns": null,
            "grid_template_rows": null,
            "height": null,
            "justify_content": null,
            "justify_items": null,
            "left": null,
            "margin": null,
            "max_height": null,
            "max_width": null,
            "min_height": null,
            "min_width": null,
            "object_fit": null,
            "object_position": null,
            "order": null,
            "overflow": null,
            "overflow_x": null,
            "overflow_y": null,
            "padding": null,
            "right": null,
            "top": null,
            "visibility": null,
            "width": null
          }
        },
        "5703b194acad4a659e17bb5f76d75931": {
          "model_module": "@jupyter-widgets/controls",
          "model_name": "DescriptionStyleModel",
          "model_module_version": "1.5.0",
          "state": {
            "_model_module": "@jupyter-widgets/controls",
            "_model_module_version": "1.5.0",
            "_model_name": "DescriptionStyleModel",
            "_view_count": null,
            "_view_module": "@jupyter-widgets/base",
            "_view_module_version": "1.2.0",
            "_view_name": "StyleView",
            "description_width": ""
          }
        },
        "185f23d35332423f91169fab1bd5b61c": {
          "model_module": "@jupyter-widgets/base",
          "model_name": "LayoutModel",
          "model_module_version": "1.2.0",
          "state": {
            "_model_module": "@jupyter-widgets/base",
            "_model_module_version": "1.2.0",
            "_model_name": "LayoutModel",
            "_view_count": null,
            "_view_module": "@jupyter-widgets/base",
            "_view_module_version": "1.2.0",
            "_view_name": "LayoutView",
            "align_content": null,
            "align_items": null,
            "align_self": null,
            "border": null,
            "bottom": null,
            "display": null,
            "flex": null,
            "flex_flow": null,
            "grid_area": null,
            "grid_auto_columns": null,
            "grid_auto_flow": null,
            "grid_auto_rows": null,
            "grid_column": null,
            "grid_gap": null,
            "grid_row": null,
            "grid_template_areas": null,
            "grid_template_columns": null,
            "grid_template_rows": null,
            "height": null,
            "justify_content": null,
            "justify_items": null,
            "left": null,
            "margin": null,
            "max_height": null,
            "max_width": null,
            "min_height": null,
            "min_width": null,
            "object_fit": null,
            "object_position": null,
            "order": null,
            "overflow": null,
            "overflow_x": null,
            "overflow_y": null,
            "padding": null,
            "right": null,
            "top": null,
            "visibility": null,
            "width": null
          }
        },
        "3a18cf10be384f6bb3b0670de07868f6": {
          "model_module": "@jupyter-widgets/controls",
          "model_name": "ProgressStyleModel",
          "model_module_version": "1.5.0",
          "state": {
            "_model_module": "@jupyter-widgets/controls",
            "_model_module_version": "1.5.0",
            "_model_name": "ProgressStyleModel",
            "_view_count": null,
            "_view_module": "@jupyter-widgets/base",
            "_view_module_version": "1.2.0",
            "_view_name": "StyleView",
            "bar_color": null,
            "description_width": ""
          }
        },
        "7feb63969f024098b1bc0d9b812e3dbf": {
          "model_module": "@jupyter-widgets/base",
          "model_name": "LayoutModel",
          "model_module_version": "1.2.0",
          "state": {
            "_model_module": "@jupyter-widgets/base",
            "_model_module_version": "1.2.0",
            "_model_name": "LayoutModel",
            "_view_count": null,
            "_view_module": "@jupyter-widgets/base",
            "_view_module_version": "1.2.0",
            "_view_name": "LayoutView",
            "align_content": null,
            "align_items": null,
            "align_self": null,
            "border": null,
            "bottom": null,
            "display": null,
            "flex": null,
            "flex_flow": null,
            "grid_area": null,
            "grid_auto_columns": null,
            "grid_auto_flow": null,
            "grid_auto_rows": null,
            "grid_column": null,
            "grid_gap": null,
            "grid_row": null,
            "grid_template_areas": null,
            "grid_template_columns": null,
            "grid_template_rows": null,
            "height": null,
            "justify_content": null,
            "justify_items": null,
            "left": null,
            "margin": null,
            "max_height": null,
            "max_width": null,
            "min_height": null,
            "min_width": null,
            "object_fit": null,
            "object_position": null,
            "order": null,
            "overflow": null,
            "overflow_x": null,
            "overflow_y": null,
            "padding": null,
            "right": null,
            "top": null,
            "visibility": null,
            "width": null
          }
        },
        "49373cec8f604934a8afc4ead38f906d": {
          "model_module": "@jupyter-widgets/controls",
          "model_name": "DescriptionStyleModel",
          "model_module_version": "1.5.0",
          "state": {
            "_model_module": "@jupyter-widgets/controls",
            "_model_module_version": "1.5.0",
            "_model_name": "DescriptionStyleModel",
            "_view_count": null,
            "_view_module": "@jupyter-widgets/base",
            "_view_module_version": "1.2.0",
            "_view_name": "StyleView",
            "description_width": ""
          }
        }
      }
    },
    "accelerator": "GPU"
  },
  "nbformat": 4,
  "nbformat_minor": 0
}
